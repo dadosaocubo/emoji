{
  "nbformat": 4,
  "nbformat_minor": 0,
  "metadata": {
    "colab": {
      "name": "emoji.ipynb",
      "provenance": []
    },
    "kernelspec": {
      "name": "python3",
      "display_name": "Python 3"
    },
    "language_info": {
      "name": "python"
    }
  },
  "cells": [
    {
      "cell_type": "markdown",
      "source": [
        "<img src=\"https://raw.githubusercontent.com/dadosaocubo/classificacao/master/DadosAoCubo.png\" alt=\"drawing\" width=\"500\"/>"
      ],
      "metadata": {
        "id": "y7bdbrM_L0Rf"
      }
    },
    {
      "cell_type": "markdown",
      "source": [
        "[__Dados ao Cubo__](https://dadosaocubo.com/) by [__Tiago Dias__](https://www.linkedin.com/in/diasctiago/) "
      ],
      "metadata": {
        "id": "sU0rCASMMNWW"
      }
    },
    {
      "cell_type": "markdown",
      "source": [
        "# Leitura de Textos com Emoji"
      ],
      "metadata": {
        "id": "YzKPKAG3KjcL"
      }
    },
    {
      "cell_type": "code",
      "execution_count": 27,
      "metadata": {
        "colab": {
          "base_uri": "https://localhost:8080/"
        },
        "id": "TMfHFtcRVRil",
        "outputId": "a9c51f42-01ba-4b7f-ca68-610d113e6e73"
      },
      "outputs": [
        {
          "output_type": "stream",
          "name": "stdout",
          "text": [
            "Requirement already satisfied: emoji in /usr/local/lib/python3.7/dist-packages (1.6.3)\n"
          ]
        }
      ],
      "source": [
        "!pip install emoji"
      ]
    },
    {
      "cell_type": "markdown",
      "source": [
        "## Importando Bibliotecas"
      ],
      "metadata": {
        "id": "maLC9qgaKqiv"
      }
    },
    {
      "cell_type": "code",
      "source": [
        "import emoji"
      ],
      "metadata": {
        "id": "2VXd4p13VW1E"
      },
      "execution_count": 28,
      "outputs": []
    },
    {
      "cell_type": "markdown",
      "source": [
        "## Transformando Emojis"
      ],
      "metadata": {
        "id": "6dg8tbcrKvkj"
      }
    },
    {
      "cell_type": "code",
      "source": [
        "print(emoji.emojize('Python is :thumbs_up:'))"
      ],
      "metadata": {
        "colab": {
          "base_uri": "https://localhost:8080/"
        },
        "id": "FPVdXS2FVWyP",
        "outputId": "e73cd9bb-78bf-4731-baaf-e44b2d3362f6"
      },
      "execution_count": 29,
      "outputs": [
        {
          "output_type": "stream",
          "name": "stdout",
          "text": [
            "Python is 👍\n"
          ]
        }
      ]
    },
    {
      "cell_type": "code",
      "source": [
        "print(emoji.emojize('Python is :thumbsup:', use_aliases=True))"
      ],
      "metadata": {
        "colab": {
          "base_uri": "https://localhost:8080/"
        },
        "id": "7Xagf2kNC7yI",
        "outputId": "fe0c3b53-de00-494a-fb27-21dd0f561373"
      },
      "execution_count": 30,
      "outputs": [
        {
          "output_type": "stream",
          "name": "stdout",
          "text": [
            "Python is 👍\n"
          ]
        }
      ]
    },
    {
      "cell_type": "code",
      "source": [
        "print(emoji.demojize('Python is 👍'))"
      ],
      "metadata": {
        "colab": {
          "base_uri": "https://localhost:8080/"
        },
        "id": "W19FEjMLC73K",
        "outputId": "32025472-b9c6-4df6-a68f-40e1e9be57b4"
      },
      "execution_count": 31,
      "outputs": [
        {
          "output_type": "stream",
          "name": "stdout",
          "text": [
            "Python is :thumbs_up:\n"
          ]
        }
      ]
    },
    {
      "cell_type": "code",
      "source": [
        "print(emoji.demojize('Python is 👍', use_aliases=True))"
      ],
      "metadata": {
        "colab": {
          "base_uri": "https://localhost:8080/"
        },
        "id": "ztFcTEPMC78q",
        "outputId": "0e722eed-2d3e-4677-d697-6029a623ea9a"
      },
      "execution_count": 32,
      "outputs": [
        {
          "output_type": "stream",
          "name": "stdout",
          "text": [
            "Python is :+1:\n"
          ]
        }
      ]
    },
    {
      "cell_type": "code",
      "source": [
        "print(emoji.emojize(\"Python is fun :red_heart:\"))"
      ],
      "metadata": {
        "colab": {
          "base_uri": "https://localhost:8080/"
        },
        "id": "KxlQMzqEC8E5",
        "outputId": "939b305c-6de2-4b9d-9fc0-317bbcec1675"
      },
      "execution_count": 33,
      "outputs": [
        {
          "output_type": "stream",
          "name": "stdout",
          "text": [
            "Python is fun ❤️\n"
          ]
        }
      ]
    },
    {
      "cell_type": "code",
      "source": [
        "print(emoji.is_emoji(\"👍\"))"
      ],
      "metadata": {
        "colab": {
          "base_uri": "https://localhost:8080/"
        },
        "id": "8kWYLPclC8KV",
        "outputId": "a8af6f9a-9fab-454e-a6f4-bf4d40df5a98"
      },
      "execution_count": 34,
      "outputs": [
        {
          "output_type": "stream",
          "name": "stdout",
          "text": [
            "True\n"
          ]
        }
      ]
    },
    {
      "cell_type": "code",
      "source": [
        "print(emoji.emojize(\"Python é :polegar_para_cima:\", language='pt'))"
      ],
      "metadata": {
        "colab": {
          "base_uri": "https://localhost:8080/"
        },
        "id": "5eNsMnJ9C8Ow",
        "outputId": "083bbad3-fe7c-4aeb-e28c-673c08c339d1"
      },
      "execution_count": 35,
      "outputs": [
        {
          "output_type": "stream",
          "name": "stdout",
          "text": [
            "Python é 👍\n"
          ]
        }
      ]
    },
    {
      "cell_type": "code",
      "source": [
        "print(emoji.demojize(\"Python é 👍\", language='pt'))"
      ],
      "metadata": {
        "colab": {
          "base_uri": "https://localhost:8080/"
        },
        "id": "eBFeXIamVWu4",
        "outputId": "caa08dc6-e143-49be-ae25-3c1058a25f2f"
      },
      "execution_count": 36,
      "outputs": [
        {
          "output_type": "stream",
          "name": "stdout",
          "text": [
            "Python é :polegar_para_cima:\n"
          ]
        }
      ]
    },
    {
      "cell_type": "code",
      "source": [
        "print(emoji.emojize(\"Python é :coração_vermelho:\", language='pt'))"
      ],
      "metadata": {
        "colab": {
          "base_uri": "https://localhost:8080/"
        },
        "id": "3vZPHzBwDFeE",
        "outputId": "0e9f48b9-ee5c-4e3d-8d77-bf04e4fa6098"
      },
      "execution_count": 37,
      "outputs": [
        {
          "output_type": "stream",
          "name": "stdout",
          "text": [
            "Python é ❤️\n"
          ]
        }
      ]
    },
    {
      "cell_type": "code",
      "source": [
        "print(emoji.is_emoji(\":polegar_para_cima:\"))"
      ],
      "metadata": {
        "colab": {
          "base_uri": "https://localhost:8080/"
        },
        "id": "ZZkFHBmODFim",
        "outputId": "88a3e705-73e9-4e35-e378-cc80cb9d9829"
      },
      "execution_count": 38,
      "outputs": [
        {
          "output_type": "stream",
          "name": "stdout",
          "text": [
            "False\n"
          ]
        }
      ]
    },
    {
      "cell_type": "markdown",
      "source": [
        "## Transformando Textos com Emoji"
      ],
      "metadata": {
        "id": "RusTN8zTK3vZ"
      }
    },
    {
      "cell_type": "code",
      "source": [
        "def emoji_transform(text):\n",
        "  text_new = []\n",
        "  for t in text.split():\n",
        "    if emoji.is_emoji(t):\n",
        "      for e in emoji.demojize(t, language='pt').replace(':','').split('_'):\n",
        "        text_new.append(e)\n",
        "    else:\n",
        "      text_new.append(t)\n",
        "  return ' '.join(map(str, text_new))"
      ],
      "metadata": {
        "id": "-uaLtVZpVWpX"
      },
      "execution_count": 39,
      "outputs": []
    },
    {
      "cell_type": "code",
      "source": [
        "emoji_transform('Python é 👍')"
      ],
      "metadata": {
        "id": "J9m1JeuMVspG",
        "colab": {
          "base_uri": "https://localhost:8080/",
          "height": 35
        },
        "outputId": "a1a0a93b-2a16-4d5d-ac01-37e039c4e591"
      },
      "execution_count": 40,
      "outputs": [
        {
          "output_type": "execute_result",
          "data": {
            "application/vnd.google.colaboratory.intrinsic+json": {
              "type": "string"
            },
            "text/plain": [
              "'Python é polegar para cima'"
            ]
          },
          "metadata": {},
          "execution_count": 40
        }
      ]
    }
  ]
}